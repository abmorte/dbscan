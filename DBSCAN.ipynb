{
 "cells": [
  {
   "cell_type": "code",
   "execution_count": 91,
   "metadata": {},
   "outputs": [],
   "source": [
    "import pandas as pd\n",
    "from scipy.spatial.distance import pdist, squareform\n",
    "import numpy as np"
   ]
  },
  {
   "cell_type": "code",
   "execution_count": 93,
   "metadata": {},
   "outputs": [],
   "source": [
    "# parâmetros de entrada\n",
    "# X: dataset com os dados a serem agrupados\n",
    "# eps: raio de vizinhança\n",
    "# minPts: número mínimo de pontos\n",
    "# out:\n",
    "\n",
    "X = pd.read_csv('data\\iris1-10.csv', delimiter=',')\n",
    "X.drop('class', axis=1, inplace=True)\n",
    "X.head()\n",
    "\n",
    "eps = 0.5\n",
    "minPts = 5"
   ]
  },
  {
   "cell_type": "code",
   "execution_count": 94,
   "metadata": {},
   "outputs": [],
   "source": [
    "def showCluster(n, p):\n",
    "    print(\"\".join(\"=\" for i in range(10)))\n",
    "    print(\"Cluster \", n, \": \" , \"{{\")\n",
    "    print(p, sep=', ')\n",
    "    print(\"}}\")\n",
    "    print(\"\".join(\"=\" for i in range(10)))"
   ]
  },
  {
   "cell_type": "code",
   "execution_count": 96,
   "metadata": {},
   "outputs": [],
   "source": [
    "def showRuidos(r):\n",
    "    print(\"\".join(\"=\" for i in range(10)))\n",
    "    print(\"Ruídos:\" , \"{{\")\n",
    "    print(p, sep=', ')\n",
    "    print(\"}}\")\n",
    "    print(\"\".join(\"=\" for i in range(10)))"
   ]
  },
  {
   "cell_type": "code",
   "execution_count": 97,
   "metadata": {},
   "outputs": [
    {
     "name": "stdout",
     "output_type": "stream",
     "text": [
      "10\n"
     ]
    }
   ],
   "source": [
    "# Calcular a distância euclidiana entre os pontos: https://docs.scipy.org/doc/scipy/reference/generated/scipy.spatial.distance.pdist.html\n",
    "Y_dist = pdist(X, 'euclidean')\n",
    "Y_dist = squareform(Y_dist) # converte para matriz\n",
    "# X.shape # (150, 4) -> 150 pontos com 4 dimensões\n",
    "# Y.shape # (150, 150) -> 11175 distâncias\n",
    "print(len(Y_dist))"
   ]
  },
  {
   "cell_type": "code",
   "execution_count": 98,
   "metadata": {},
   "outputs": [],
   "source": [
    "# Vetor para armazenar pontos já visitados\n",
    "visitados = []\n",
    "\n",
    "# Vetor para armazenar pontos candidatos a estarem no cluster\n",
    "candidatos = []\n",
    "\n",
    "# Vetor com os ruídos\n",
    "ruidos = []\n",
    "\n",
    "# Vetor com os pontos do cluster\n",
    "cluster = []\n",
    "\n",
    "# Pontos a serem visitados\n",
    "restantes = []\n",
    "restantes += range(0, 10)\n",
    "\n",
    "# Número de clusters\n",
    "nClusters = 0"
   ]
  },
  {
   "cell_type": "code",
   "execution_count": 84,
   "metadata": {},
   "outputs": [
    {
     "name": "stdout",
     "output_type": "stream",
     "text": [
      "==========\n",
      "Cluster  1 :  {{\n",
      "3\n",
      "}}\n",
      "==========\n"
     ]
    },
    {
     "ename": "IndexError",
     "evalue": "index 6 is out of bounds for axis 0 with size 5",
     "output_type": "error",
     "traceback": [
      "\u001b[1;31m---------------------------------------------------------------------------\u001b[0m",
      "\u001b[1;31mIndexError\u001b[0m                                Traceback (most recent call last)",
      "Cell \u001b[1;32mIn [84], line 14\u001b[0m\n\u001b[0;32m     12\u001b[0m     \u001b[39melse\u001b[39;00m:\n\u001b[0;32m     13\u001b[0m         ruidos\u001b[39m.\u001b[39mappend(i)\n\u001b[1;32m---> 14\u001b[0m         np\u001b[39m.\u001b[39;49mdelete(restantes, i)\n\u001b[0;32m     15\u001b[0m \u001b[39melse\u001b[39;00m:\n\u001b[0;32m     16\u001b[0m     \u001b[39mprint\u001b[39m(\u001b[39m'\u001b[39m\u001b[39mponto já visitado\u001b[39m\u001b[39m'\u001b[39m)\n",
      "File \u001b[1;32m<__array_function__ internals>:180\u001b[0m, in \u001b[0;36mdelete\u001b[1;34m(*args, **kwargs)\u001b[0m\n",
      "File \u001b[1;32mc:\\Users\\Administrador\\Documents\\doutorado\\2022\\MATE33\\dbscan\\venv\\lib\\site-packages\\numpy\\lib\\function_base.py:5156\u001b[0m, in \u001b[0;36mdelete\u001b[1;34m(arr, obj, axis)\u001b[0m\n\u001b[0;32m   5153\u001b[0m \u001b[39mif\u001b[39;00m single_value:\n\u001b[0;32m   5154\u001b[0m     \u001b[39m# optimization for a single value\u001b[39;00m\n\u001b[0;32m   5155\u001b[0m     \u001b[39mif\u001b[39;00m (obj \u001b[39m<\u001b[39m \u001b[39m-\u001b[39mN \u001b[39mor\u001b[39;00m obj \u001b[39m>\u001b[39m\u001b[39m=\u001b[39m N):\n\u001b[1;32m-> 5156\u001b[0m         \u001b[39mraise\u001b[39;00m \u001b[39mIndexError\u001b[39;00m(\n\u001b[0;32m   5157\u001b[0m             \u001b[39m\"\u001b[39m\u001b[39mindex \u001b[39m\u001b[39m%i\u001b[39;00m\u001b[39m is out of bounds for axis \u001b[39m\u001b[39m%i\u001b[39;00m\u001b[39m with \u001b[39m\u001b[39m\"\u001b[39m\n\u001b[0;32m   5158\u001b[0m             \u001b[39m\"\u001b[39m\u001b[39msize \u001b[39m\u001b[39m%i\u001b[39;00m\u001b[39m\"\u001b[39m \u001b[39m%\u001b[39m (obj, axis, N))\n\u001b[0;32m   5159\u001b[0m     \u001b[39mif\u001b[39;00m (obj \u001b[39m<\u001b[39m \u001b[39m0\u001b[39m):\n\u001b[0;32m   5160\u001b[0m         obj \u001b[39m+\u001b[39m\u001b[39m=\u001b[39m N\n",
      "\u001b[1;31mIndexError\u001b[0m: index 6 is out of bounds for axis 0 with size 5"
     ]
    }
   ],
   "source": [
    "while len(restantes) > 0:\n",
    "    # Escolher ponto aleatório na faixa entre 0 e 149\n",
    "    p = np.random.randint(0, 9)\n",
    "\n",
    "    for i in range(0, 9):\n",
    "        # Verificar se o ponto já foi visitado\n",
    "        if p not in visitados:\n",
    "            # Verificar se o ponto está dentro do raio de vizinhança\n",
    "            if Y_dist[p, i] <= eps:\n",
    "                candidatos.append(i)\n",
    "            else:\n",
    "                ruidos.append(i)\n",
    "                np.delete(restantes, i)\n",
    "        else:\n",
    "            print('ponto já visitado')\n",
    "        \n",
    "    visitados.append(p)\n",
    "           \n",
    "    if len(candidatos) >= minPts:    \n",
    "        # Inicializar identificador do novo cluster\n",
    "        nClusters += 1\n",
    "                \n",
    "        # Adicionar os pontos candidatos ao cluster\n",
    "        cluster = candidatos\n",
    "        \n",
    "        # Adiciona p ao cluster\n",
    "        cluster.append(p)\n",
    "        showCluster(nClusters, p)\n",
    "        \n",
    "        # Adicionar à lista de visitados os pontos do cluster\n",
    "        visitados.append(cluster)\n",
    "        \n",
    "        # Remover os pontos do cluster da lista de restantes        \n",
    "        restantes = [pts for pts in restantes if pts not in cluster]\n",
    "\n",
    "showRuidos(ruidos)"
   ]
  },
  {
   "cell_type": "code",
   "execution_count": 66,
   "metadata": {},
   "outputs": [
    {
     "data": {
      "text/plain": [
       "[6, 7, 8, 9]"
      ]
     },
     "execution_count": 66,
     "metadata": {},
     "output_type": "execute_result"
    }
   ],
   "source": [
    "restantes = []\n",
    "restantes += range(0, 10)\n",
    "# restantes\n",
    "\n",
    "cluster = [0,1,2,3, 4, 5]\n",
    "\n",
    "restantes = [pts for pts in restantes if pts not in cluster]\n",
    "restantes"
   ]
  }
 ],
 "metadata": {
  "kernelspec": {
   "display_name": "Python 3.9.6 ('venv': venv)",
   "language": "python",
   "name": "python3"
  },
  "language_info": {
   "codemirror_mode": {
    "name": "ipython",
    "version": 3
   },
   "file_extension": ".py",
   "mimetype": "text/x-python",
   "name": "python",
   "nbconvert_exporter": "python",
   "pygments_lexer": "ipython3",
   "version": "3.9.6"
  },
  "orig_nbformat": 4,
  "vscode": {
   "interpreter": {
    "hash": "10793612a4414089786bb5f999b8318b8dd42d7c36faff9be780b163e63ed06a"
   }
  }
 },
 "nbformat": 4,
 "nbformat_minor": 2
}

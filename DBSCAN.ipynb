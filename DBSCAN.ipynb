{
 "cells": [
  {
   "cell_type": "code",
   "execution_count": 265,
   "metadata": {},
   "outputs": [],
   "source": [
    "import pandas as pd\n",
    "from scipy.spatial.distance import pdist, squareform\n",
    "import numpy as np"
   ]
  },
  {
   "cell_type": "code",
   "execution_count": 266,
   "metadata": {},
   "outputs": [],
   "source": [
    "# parâmetros de entrada\n",
    "# X: dataset com os dados a serem agrupados\n",
    "# eps: raio de vizinhança\n",
    "# minPts: número mínimo de pontos\n",
    "# out:\n",
    "\n",
    "X = pd.read_csv('data\\iris1-10.csv', delimiter=',')\n",
    "X.drop('class', axis=1, inplace=True)\n",
    "X.head()\n",
    "\n",
    "eps = 0.4\n",
    "minPts = 2"
   ]
  },
  {
   "cell_type": "code",
   "execution_count": 267,
   "metadata": {},
   "outputs": [],
   "source": [
    "def showCluster(n, p):\n",
    "    print(\"\".join(\"=\" for i in range(20)))\n",
    "    print(\"Cluster \", n, \": \" , \"{\", p, \"}\")\n",
    "    print(\"\".join(\"=\" for i in range(20)))"
   ]
  },
  {
   "cell_type": "code",
   "execution_count": 268,
   "metadata": {},
   "outputs": [],
   "source": [
    "def showRuidos(r):\n",
    "    print(\"\".join(\"=\" for i in range(20)))\n",
    "    print(\"Ruídos:\" , \"{\", r, \"}\")\n",
    "    print(\"\".join(\"=\" for i in range(20)))"
   ]
  },
  {
   "cell_type": "code",
   "execution_count": 269,
   "metadata": {},
   "outputs": [
    {
     "name": "stdout",
     "output_type": "stream",
     "text": [
      "10\n"
     ]
    }
   ],
   "source": [
    "# Calcular a distância euclidiana entre os pontos: https://docs.scipy.org/doc/scipy/reference/generated/scipy.spatial.distance.pdist.html\n",
    "Y_dist = pdist(X, 'euclidean')\n",
    "Y_dist = squareform(Y_dist) # converte para matriz\n",
    "# X.shape # (150, 4) -> 150 pontos com 4 dimensões\n",
    "# Y.shape # (150, 150) -> 11175 distâncias\n",
    "print(len(Y_dist))"
   ]
  },
  {
   "cell_type": "code",
   "execution_count": 270,
   "metadata": {},
   "outputs": [],
   "source": [
    "# Vetor para armazenar pontos já visitados\n",
    "visitados = []\n",
    "\n",
    "# Vetor para armazenar pontos candidatos a estarem no cluster\n",
    "candidatos = []\n",
    "\n",
    "# Vetor com os ruídos\n",
    "ruidos = []\n",
    "\n",
    "# Vetor com os pontos do cluster\n",
    "cluster = []\n",
    "\n",
    "# Pontos a serem visitados\n",
    "restantes = []\n",
    "restantes += range(0, 10)\n",
    "\n",
    "# Número de clusters\n",
    "nClusters = 0"
   ]
  },
  {
   "cell_type": "code",
   "execution_count": 271,
   "metadata": {},
   "outputs": [
    {
     "name": "stdout",
     "output_type": "stream",
     "text": [
      "====================\n",
      "Cluster  1 :  { 6 }\n",
      "====================\n",
      "====================\n",
      "Ruídos: { [0, 1, 2, 3, 4, 6, 7, 8, 9, 0, 1, 4, 5, 7, 8, 9] }\n",
      "====================\n"
     ]
    }
   ],
   "source": [
    "while len(restantes) > 0:\n",
    "    # Escolher ponto aleatório na faixa entre 0 e 150 (exclusive)\n",
    "    p = np.random.randint(0, 10)\n",
    "\n",
    "    for i in range(0, 10):\n",
    "        # Verificar se o ponto já foi visitado\n",
    "        if p not in visitados:\n",
    "            # Verificar se o ponto está dentro do raio de vizinhança\n",
    "            if Y_dist[p, i] <= eps:\n",
    "                candidatos.append(i)\n",
    "            else:\n",
    "                ruidos.append(i)\n",
    "        \n",
    "    visitados.append(p)\n",
    "    \n",
    "    restantes = [pts for pts in restantes if pts not in ruidos]\n",
    "           \n",
    "    if len(candidatos) >= minPts:    \n",
    "        # Inicializar identificador do novo cluster\n",
    "        nClusters += 1\n",
    "                \n",
    "        # Adicionar os pontos candidatos ao cluster\n",
    "        cluster = candidatos\n",
    "        \n",
    "        # Adiciona p ao cluster\n",
    "        cluster.append(p)\n",
    "        showCluster(nClusters, p)\n",
    "        \n",
    "        # Adicionar à lista de visitados os pontos do cluster\n",
    "        visitados.append(cluster)\n",
    "        \n",
    "        # Remover os pontos do cluster da lista de restantes        \n",
    "        restantes = [pts for pts in restantes if pts not in cluster]\n",
    "\n",
    "showRuidos(ruidos)"
   ]
  }
 ],
 "metadata": {
  "kernelspec": {
   "display_name": "Python 3.9.6 ('venv': venv)",
   "language": "python",
   "name": "python3"
  },
  "language_info": {
   "codemirror_mode": {
    "name": "ipython",
    "version": 3
   },
   "file_extension": ".py",
   "mimetype": "text/x-python",
   "name": "python",
   "nbconvert_exporter": "python",
   "pygments_lexer": "ipython3",
   "version": "3.9.6"
  },
  "orig_nbformat": 4,
  "vscode": {
   "interpreter": {
    "hash": "10793612a4414089786bb5f999b8318b8dd42d7c36faff9be780b163e63ed06a"
   }
  }
 },
 "nbformat": 4,
 "nbformat_minor": 2
}

{
  "cells": [
    {
      "cell_type": "markdown",
      "metadata": {
        "colab_type": "text",
        "id": "view-in-github"
      },
      "source": [
        "<a href=\"https://colab.research.google.com/github/abmorte/dbscan/blob/main/DBSCAN.ipynb\" target=\"_parent\"><img src=\"https://colab.research.google.com/assets/colab-badge.svg\" alt=\"Open In Colab\"/></a>"
      ]
    },
    {
      "cell_type": "markdown",
      "metadata": {
        "id": "DDMkvyMMdXh5"
      },
      "source": [
        "# DBSAN - Density-based Spatial Clustering of Applications with Noise"
      ]
    },
    {
      "cell_type": "markdown",
      "metadata": {
        "id": "GJnWRx-ZdXh-"
      },
      "source": [
        "#### Imports"
      ]
    },
    {
      "cell_type": "code",
      "execution_count": 5,
      "metadata": {
        "id": "USWf7TLPdXh_"
      },
      "outputs": [],
      "source": [
        "import matplotlib.pyplot as plt\n",
        "import numpy as np\n",
        "import pandas as pd\n",
        "import seaborn as sns\n",
        "from scipy.spatial import distance\n",
        "from scipy.spatial.distance import pdist, squareform\n",
        "from sklearn.cluster import DBSCAN\n",
        "from sklearn.manifold import TSNE\n",
        "from sklearn.preprocessing import StandardScaler"
      ]
    },
    {
      "cell_type": "markdown",
      "metadata": {
        "id": "uMo3UGUXdXiA"
      },
      "source": [
        "#### Método"
      ]
    },
    {
      "cell_type": "code",
      "execution_count": null,
      "metadata": {
        "colab": {
          "base_uri": "https://localhost:8080/",
          "height": 109
        },
        "id": "vbIbcKpidXiA",
        "outputId": "0a5fdb34-0454-49a0-b9fb-7b719e772119"
      },
      "outputs": [],
      "source": [
        "\"\"\"\n",
        "Dados a) um dataset X, b) o raio de uma vizinhança E e c) o número mínimo de pontos minPts:\n",
        "\n",
        "1. Para cada ponto do dataset X, encontre os pontos que estão dentro do raio da vizinhança E;\n",
        "2. Identifique os corePoints, isto é, os pontos que têm ao menos minPts vizinhos;\n",
        "3. Encontre todos os Componentes Conectados de cada corePoint. Este agrupamento de pontos conectados por densidade constitui um cluster;\n",
        "4. Cada borderPoint pertence a um cluster se este cluster é alcançável por densidade, senão o borderPoint é considerado ruído.   \n",
        "\n",
        "Obs. Dado ponto pode inicialmente ser considerado ruído e depois revisto para pertencer a um cluster, mas uma vez pertencente a um cluster \n",
        "nunca será desassociado deste.\n",
        "\"\"\""
      ]
    },
    {
      "cell_type": "code",
      "execution_count": 6,
      "metadata": {
        "id": "BtF1LRZwdXiB"
      },
      "outputs": [],
      "source": [
        "def neighborsGen(X, point, eps):\n",
        "    \"\"\"\n",
        "    Gera os vizinhos de um ponto;\n",
        "        itera através de X e retorna os índices dos pontos que estão dentro do raio da vizinhança eps.\n",
        "    \"\"\"\n",
        "    neighbors = []\n",
        "    \n",
        "    for i in range(0, X.shape[0]):\n",
        "        if distance.euclidean(X[point], X[i]) < eps:\n",
        "            neighbors.append(i)\n",
        "            \n",
        "    return neighbors"
      ]
    },
    {
      "cell_type": "code",
      "execution_count": 7,
      "metadata": {
        "id": "BIWdJwNYdXiC"
      },
      "outputs": [],
      "source": [
        "def expand(X, clusters, point, neighbors, currentPoint, eps, minPts):\n",
        "    \"\"\"\n",
        "    Expande o cluster a partir de um ponto até que os limites da vizinhança sejam alcançados.\n",
        "    \"\"\"\n",
        "    clusters[point] = currentPoint\n",
        "    \n",
        "    i = 0\n",
        "    while i < len(neighbors):\n",
        "        nextPoint = neighbors[i]\n",
        "        \n",
        "        if clusters[nextPoint] == -1:\n",
        "            clusters[nextPoint] = currentPoint\n",
        "            \n",
        "        elif clusters[nextPoint] == 0:\n",
        "            clusters[nextPoint] = currentPoint\n",
        "            \n",
        "            nextNeighbors = neighborsGen(X, nextPoint, eps)\n",
        "            \n",
        "            if len(nextNeighbors) >= minPts:\n",
        "                neighbors = neighbors + nextNeighbors\n",
        "        \n",
        "        i += 1"
      ]
    },
    {
      "cell_type": "code",
      "execution_count": null,
      "metadata": {
        "id": "clWsEi4KdXiD"
      },
      "outputs": [],
      "source": [
        "def simple_DBSCAN(X, clusters, eps, minPts):\n",
        "    \"\"\"\n",
        "    Driver;\n",
        "        itera através de neighborsGen para cada ponto em X;\n",
        "        expande o cluster para cada ponto não rotulado como ruído.\n",
        "    \"\"\"\n",
        "    currentPoint = 0\n",
        "    \n",
        "    for i in range(0, X.shape[0]):\n",
        "        if clusters[i] is not 0:\n",
        "            continue\n",
        "        \n",
        "        neighbors = neighborsGen(X, i, eps)\n",
        "        \n",
        "        if len(neighbors) < minPts:\n",
        "            clusters[i] = -1 # ruído\n",
        "        else:\n",
        "            currentPoint += 1\n",
        "            expand(X, clusters, i, neighbors, currentPoint, eps, minPts)\n",
        "            \n",
        "    return clusters"
      ]
    },
    {
      "cell_type": "code",
      "execution_count": 9,
      "metadata": {
        "id": "PaXVZMradXiE"
      },
      "outputs": [],
      "source": [
        "class Basic_DBSCAN:\n",
        "    \"\"\"\n",
        "    Parâmetros:\n",
        "    - eps: raio de vizinhança\n",
        "    - minPts: número de vizinhos necessários para nomear um ponto como corePoint\n",
        "    \"\"\"\n",
        "    \n",
        "    def __init__(self, eps, minPts):\n",
        "        self.eps = eps\n",
        "        self.minPts = minPts\n",
        "        \n",
        "    def fit_predict(self, X):\n",
        "        \"\"\"\n",
        "        Parâmetros:\n",
        "        - X: dataset com os dados a serem agrupados (??)\n",
        "        \n",
        "        Retorno:\n",
        "        - clusters: pontos rotulados com os clusters encontrados, -1 para ruído\n",
        "        \"\"\"\n",
        "        \n",
        "        clusters = [0] * X.shape[0]\n",
        "        \n",
        "        simple_DBSCAN(X, clusters, self.eps, self.minPts)\n",
        "        \n",
        "        return clusters"
      ]
    },
    {
      "cell_type": "markdown",
      "metadata": {
        "id": "pVpY9ZnmdXiE"
      },
      "source": [
        "#### Dataset IRIS"
      ]
    },
    {
      "cell_type": "code",
      "execution_count": null,
      "metadata": {
        "colab": {
          "base_uri": "https://localhost:8080/",
          "height": 423
        },
        "id": "XUAv-sAadXiF",
        "outputId": "2e5e885f-5ad7-4d4f-a32e-9af6c626dfb0"
      },
      "outputs": [],
      "source": [
        "# iris10.csv: 10 registros do IRIS dataset para facilitar o desenvolvimento\n",
        "# iris.csv: todo o IRIS dataset \n",
        "df = pd.read_csv('data\\iris.csv')             # execucao local\n",
        "# df = pd.read_csv('/content/data/iris.csv')    # execucao no Colab: \n",
        "df.drop('class', axis=1, inplace=True)\n",
        "df"
      ]
    },
    {
      "cell_type": "markdown",
      "metadata": {
        "id": "FuwjMcyEdXiF"
      },
      "source": [
        "#### Normalização dos dados"
      ]
    },
    {
      "cell_type": "code",
      "execution_count": null,
      "metadata": {
        "colab": {
          "base_uri": "https://localhost:8080/"
        },
        "id": "0n3e6nTedXiF",
        "outputId": "3984065a-d433-4829-c2f8-130d61fbb246"
      },
      "outputs": [],
      "source": [
        "X = StandardScaler().fit_transform(df)\n",
        "X"
      ]
    },
    {
      "cell_type": "markdown",
      "metadata": {
        "id": "MGRBge-PdXiG"
      },
      "source": [
        "#### Clusters encontrados (ruídos inclusos)"
      ]
    },
    {
      "cell_type": "code",
      "execution_count": null,
      "metadata": {
        "colab": {
          "base_uri": "https://localhost:8080/"
        },
        "id": "OfP7-iaidXiG",
        "outputId": "10342369-f997-4f5c-e46c-536a893eae89"
      },
      "outputs": [],
      "source": [
        "clusters = Basic_DBSCAN(eps = .85, minPts = 7).fit_predict(X)\n",
        "clusters"
      ]
    },
    {
      "cell_type": "markdown",
      "metadata": {
        "id": "ld9Ph2rTdXiG"
      },
      "source": [
        "#### Gráfico de pontos agrupados por clusters e ruídos"
      ]
    },
    {
      "cell_type": "code",
      "execution_count": 13,
      "metadata": {
        "colab": {
          "base_uri": "https://localhost:8080/",
          "height": 283
        },
        "id": "FlDm7cx4dXiH",
        "outputId": "e636d92e-4a47-474f-cdf5-5803d9452871"
      },
      "outputs": [
        {
          "data": {
            "text/plain": [
              "<AxesSubplot: >"
            ]
          },
          "execution_count": 13,
          "metadata": {},
          "output_type": "execute_result"
        },
        {
          "data": {
            "image/png": "[encoded data removed]",
            "text/plain": [
              "<Figure size 640x480 with 1 Axes>"
            ]
          },
          "metadata": {},
          "output_type": "display_data"
        }
      ],
      "source": [
        "sns.scatterplot(x = X[:, 0], y = X[:, 1], hue = clusters, palette = 'Set1')"
      ]
    }
  ],
  "metadata": {
    "colab": {
      "include_colab_link": true,
      "provenance": []
    },
    "kernelspec": {
      "display_name": "Python 3.9.6 ('venv': venv)",
      "language": "python",
      "name": "python3"
    },
    "language_info": {
      "codemirror_mode": {
        "name": "ipython",
        "version": 3
      },
      "file_extension": ".py",
      "mimetype": "text/x-python",
      "name": "python",
      "nbconvert_exporter": "python",
      "pygments_lexer": "ipython3",
      "version": "3.9.6"
    },
    "orig_nbformat": 4,
    "vscode": {
      "interpreter": {
        "hash": "10793612a4414089786bb5f999b8318b8dd42d7c36faff9be780b163e63ed06a"
      }
    }
  },
  "nbformat": 4,
  "nbformat_minor": 0
}
